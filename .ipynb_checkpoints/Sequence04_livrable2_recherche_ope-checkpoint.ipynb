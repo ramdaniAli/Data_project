{
 "cells": [
  {
   "cell_type": "code",
   "execution_count": 16,
   "id": "1574f6d4",
   "metadata": {},
   "outputs": [
    {
     "name": "stdout",
     "output_type": "stream",
     "text": [
      "[[6, 4, 0, 1, 2], [7, 3, 3, 6, 2], [8, 5, 0, 5, 4], [0, 3, 6, 5, 2], [0, 5, 5, 2, 3]]\n"
     ]
    }
   ],
   "source": [
    "import numpy as np\n",
    "\n",
    "matrice = []\n",
    "num = 5\n",
    "\n",
    "for i in range(0,num) :\n",
    "    A = np.random.randint(10, size=num)\n",
    "    matrice.append(list(A))\n",
    "\n",
    "\n",
    "print(matrice)\n",
    " "
   ]
  },
  {
   "cell_type": "code",
   "execution_count": 3,
   "id": "f683fc4e",
   "metadata": {},
   "outputs": [],
   "source": [
    "import numpy as np\n",
    "\n",
    "def matricegenerator(num_V , num_w_min , num_w_max):\n",
    "    matrice = []   \n",
    "    for i in range(0,num_V) :\n",
    "        A = np.random.randint(num_w_min , num_w_max , size=(num_V))\n",
    "        matrice.append(list(A))\n",
    "    return matrice\n",
    "\n",
    "#matricegenerator(5 , 0 , 2 )\n",
    "f = open(\"matrice_random.txt\", \"a\")\n",
    "f.write(str(matricegenerator(30 , 0 , 50)))\n",
    "f.close()\n"
   ]
  },
  {
   "cell_type": "code",
   "execution_count": null,
   "id": "b45fda0c",
   "metadata": {},
   "outputs": [],
   "source": []
  },
  {
   "cell_type": "code",
   "execution_count": null,
   "id": "a30e5ee6",
   "metadata": {},
   "outputs": [],
   "source": []
  },
  {
   "cell_type": "code",
   "execution_count": null,
   "id": "2207d3b6",
   "metadata": {},
   "outputs": [],
   "source": []
  }
 ],
 "metadata": {
  "kernelspec": {
   "display_name": "Python 3",
   "language": "python",
   "name": "python3"
  },
  "language_info": {
   "codemirror_mode": {
    "name": "ipython",
    "version": 3
   },
   "file_extension": ".py",
   "mimetype": "text/x-python",
   "name": "python",
   "nbconvert_exporter": "python",
   "pygments_lexer": "ipython3",
   "version": "3.8.8"
  }
 },
 "nbformat": 4,
 "nbformat_minor": 5
}
